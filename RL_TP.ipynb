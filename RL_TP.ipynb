{
  "nbformat": 4,
  "nbformat_minor": 0,
  "metadata": {
    "colab": {
      "provenance": [],
      "gpuType": "T4"
    },
    "kernelspec": {
      "name": "python3",
      "display_name": "Python 3"
    },
    "language_info": {
      "name": "python"
    },
    "accelerator": "GPU"
  },
  "cells": [
    {
      "cell_type": "code",
      "source": [
        "import numpy as np\n",
        "import gymnasium as gym\n",
        "import matplotlib.pyplot as plt\n",
        "from tqdm import tqdm\n",
        "\n",
        "# Crear el entorno\n",
        "env = gym.make('Taxi-v3')\n",
        "\n",
        "# Inicializar la tabla Q\n",
        "q_table = np.zeros((env.observation_space.n, env.action_space.n))\n",
        "\n",
        "# Hiperparámetros\n",
        "alpha = 0.1\n",
        "gamma = 0.6\n",
        "epsilon = 1.0\n",
        "epsilon_decay = 0.9999\n",
        "min_epsilon = 0.01\n",
        "episodes = 100000\n",
        "\n",
        "# Para almacenar las recompensas\n",
        "rewards = []\n",
        "epsilons = []\n",
        "\n",
        "for episode in tqdm(range(episodes)):\n",
        "    state, _ = env.reset()\n",
        "    done = False\n",
        "    total_reward = 0\n",
        "\n",
        "    while not done:\n",
        "        # Política ε-greedy\n",
        "        if np.random.random() < epsilon:\n",
        "            action = env.action_space.sample()  # Exploración\n",
        "        else:\n",
        "            action = np.argmax(q_table[state])  # Explotación\n",
        "\n",
        "        # Tomar la acción\n",
        "        next_state, reward, terminated, truncated, _ = env.step(action)\n",
        "        done = terminated or truncated\n",
        "\n",
        "        # Actualizar la tabla Q\n",
        "        old_value = q_table[state, action]\n",
        "        next_max = np.max(q_table[next_state])\n",
        "        new_value = old_value + alpha * (reward + gamma * next_max - old_value)\n",
        "        q_table[state, action] = new_value\n",
        "\n",
        "        state = next_state\n",
        "        total_reward += reward\n",
        "\n",
        "    # Decaimiento de epsilon\n",
        "    epsilon = max(min_epsilon, epsilon * epsilon_decay)\n",
        "\n",
        "    rewards.append(total_reward)\n",
        "    epsilons.append(epsilon)\n",
        "\n",
        "    # Mostrar progreso cada 1000 episodios\n",
        "    if episode % 1000 == 0:\n",
        "        avg_reward = np.mean(rewards[-1000:])\n",
        "        print(f\"Episodio: {episode}, Recompensa promedio: {avg_reward:.2f}, Epsilon: {epsilon:.4f}\")\n",
        "\n",
        "# Gráfico de convergencia\n",
        "window_size = 1000\n",
        "moving_avg = np.convolve(rewards, np.ones(window_size)/window_size, mode='valid')\n",
        "\n",
        "plt.figure(figsize=(12, 6))\n",
        "plt.plot(moving_avg)\n",
        "plt.title('Recompensa promedio (media móvil de 1000 episodios)')\n",
        "plt.xlabel('Episodios')\n",
        "plt.ylabel('Recompensa')\n",
        "plt.grid()\n",
        "plt.show()\n",
        "\n",
        "# Evaluación final\n",
        "test_episodes = 100\n",
        "success_count = 0\n",
        "\n",
        "for _ in range(test_episodes):\n",
        "    state, _ = env.reset()\n",
        "    done = False\n",
        "\n",
        "    while not done:\n",
        "        action = np.argmax(q_table[state])\n",
        "        next_state, reward, terminated, truncated, _ = env.step(action)\n",
        "        done = terminated or truncated\n",
        "        state = next_state\n",
        "\n",
        "        if reward == 20:  # Recompensa por entrega exitosa\n",
        "            success_count += 1\n",
        "\n",
        "print(f\"Tasa de éxito en evaluación: {success_count/test_episodes*100:.2f}%\")\n",
        "env.close()\n"
      ],
      "metadata": {
        "colab": {
          "base_uri": "https://localhost:8080/",
          "height": 1000
        },
        "id": "MbQf1YnCEqX6",
        "outputId": "cd2cc394-0eca-4c83-cbde-625b36bb74aa"
      },
      "execution_count": 7,
      "outputs": [
        {
          "output_type": "stream",
          "name": "stderr",
          "text": [
            "  0%|          | 25/100000 [00:00<13:13, 126.02it/s]"
          ]
        },
        {
          "output_type": "stream",
          "name": "stdout",
          "text": [
            "Episodio: 0, Recompensa promedio: -704.00, Epsilon: 0.9999\n"
          ]
        },
        {
          "output_type": "stream",
          "name": "stderr",
          "text": [
            "  1%|          | 1020/100000 [00:08<13:03, 126.33it/s]"
          ]
        },
        {
          "output_type": "stream",
          "name": "stdout",
          "text": [
            "Episodio: 1000, Recompensa promedio: -704.76, Epsilon: 0.9047\n"
          ]
        },
        {
          "output_type": "stream",
          "name": "stderr",
          "text": [
            "  2%|▏         | 2035/100000 [00:14<07:03, 231.40it/s]"
          ]
        },
        {
          "output_type": "stream",
          "name": "stdout",
          "text": [
            "Episodio: 2000, Recompensa promedio: -457.89, Epsilon: 0.8186\n"
          ]
        },
        {
          "output_type": "stream",
          "name": "stderr",
          "text": [
            "  3%|▎         | 3082/100000 [00:21<05:06, 315.82it/s]"
          ]
        },
        {
          "output_type": "stream",
          "name": "stdout",
          "text": [
            "Episodio: 3000, Recompensa promedio: -244.60, Epsilon: 0.7407\n"
          ]
        },
        {
          "output_type": "stream",
          "name": "stderr",
          "text": [
            "  4%|▍         | 4090/100000 [00:23<03:44, 426.99it/s]"
          ]
        },
        {
          "output_type": "stream",
          "name": "stdout",
          "text": [
            "Episodio: 4000, Recompensa promedio: -150.03, Epsilon: 0.6702\n"
          ]
        },
        {
          "output_type": "stream",
          "name": "stderr",
          "text": [
            "  5%|▌         | 5077/100000 [00:25<02:57, 533.52it/s]"
          ]
        },
        {
          "output_type": "stream",
          "name": "stdout",
          "text": [
            "Episodio: 5000, Recompensa promedio: -98.20, Epsilon: 0.6065\n"
          ]
        },
        {
          "output_type": "stream",
          "name": "stderr",
          "text": [
            "  6%|▌         | 6145/100000 [00:27<02:10, 718.91it/s]"
          ]
        },
        {
          "output_type": "stream",
          "name": "stdout",
          "text": [
            "Episodio: 6000, Recompensa promedio: -70.53, Epsilon: 0.5487\n"
          ]
        },
        {
          "output_type": "stream",
          "name": "stderr",
          "text": [
            "  7%|▋         | 7110/100000 [00:28<02:04, 747.38it/s]"
          ]
        },
        {
          "output_type": "stream",
          "name": "stdout",
          "text": [
            "Episodio: 7000, Recompensa promedio: -54.72, Epsilon: 0.4965\n"
          ]
        },
        {
          "output_type": "stream",
          "name": "stderr",
          "text": [
            "  8%|▊         | 8153/100000 [00:29<01:51, 821.56it/s]"
          ]
        },
        {
          "output_type": "stream",
          "name": "stdout",
          "text": [
            "Episodio: 8000, Recompensa promedio: -42.01, Epsilon: 0.4493\n"
          ]
        },
        {
          "output_type": "stream",
          "name": "stderr",
          "text": [
            "  9%|▉         | 9204/100000 [00:31<01:33, 966.46it/s]"
          ]
        },
        {
          "output_type": "stream",
          "name": "stdout",
          "text": [
            "Episodio: 9000, Recompensa promedio: -32.40, Epsilon: 0.4065\n"
          ]
        },
        {
          "output_type": "stream",
          "name": "stderr",
          "text": [
            " 10%|█         | 10099/100000 [00:32<01:42, 875.88it/s]"
          ]
        },
        {
          "output_type": "stream",
          "name": "stdout",
          "text": [
            "Episodio: 10000, Recompensa promedio: -27.40, Epsilon: 0.3678\n"
          ]
        },
        {
          "output_type": "stream",
          "name": "stderr",
          "text": [
            " 11%|█         | 11245/100000 [00:33<01:20, 1100.06it/s]"
          ]
        },
        {
          "output_type": "stream",
          "name": "stdout",
          "text": [
            "Episodio: 11000, Recompensa promedio: -20.45, Epsilon: 0.3328\n"
          ]
        },
        {
          "output_type": "stream",
          "name": "stderr",
          "text": [
            " 12%|█▏        | 12221/100000 [00:33<01:12, 1213.86it/s]"
          ]
        },
        {
          "output_type": "stream",
          "name": "stdout",
          "text": [
            "Episodio: 12000, Recompensa promedio: -16.06, Epsilon: 0.3011\n"
          ]
        },
        {
          "output_type": "stream",
          "name": "stderr",
          "text": [
            " 13%|█▎        | 13167/100000 [00:34<01:12, 1201.87it/s]"
          ]
        },
        {
          "output_type": "stream",
          "name": "stdout",
          "text": [
            "Episodio: 13000, Recompensa promedio: -13.62, Epsilon: 0.2725\n"
          ]
        },
        {
          "output_type": "stream",
          "name": "stderr",
          "text": [
            " 14%|█▍        | 14334/100000 [00:35<01:10, 1223.22it/s]"
          ]
        },
        {
          "output_type": "stream",
          "name": "stdout",
          "text": [
            "Episodio: 14000, Recompensa promedio: -9.78, Epsilon: 0.2466\n"
          ]
        },
        {
          "output_type": "stream",
          "name": "stderr",
          "text": [
            " 15%|█▌        | 15233/100000 [00:36<01:02, 1352.05it/s]"
          ]
        },
        {
          "output_type": "stream",
          "name": "stdout",
          "text": [
            "Episodio: 15000, Recompensa promedio: -7.55, Epsilon: 0.2231\n"
          ]
        },
        {
          "output_type": "stream",
          "name": "stderr",
          "text": [
            " 16%|█▌        | 16187/100000 [00:36<01:02, 1332.76it/s]"
          ]
        },
        {
          "output_type": "stream",
          "name": "stdout",
          "text": [
            "Episodio: 16000, Recompensa promedio: -5.95, Epsilon: 0.2019\n"
          ]
        },
        {
          "output_type": "stream",
          "name": "stderr",
          "text": [
            " 17%|█▋        | 17394/100000 [00:37<00:54, 1517.84it/s]"
          ]
        },
        {
          "output_type": "stream",
          "name": "stdout",
          "text": [
            "Episodio: 17000, Recompensa promedio: -3.74, Epsilon: 0.1826\n"
          ]
        },
        {
          "output_type": "stream",
          "name": "stderr",
          "text": [
            " 18%|█▊        | 18335/100000 [00:38<00:49, 1646.76it/s]"
          ]
        },
        {
          "output_type": "stream",
          "name": "stdout",
          "text": [
            "Episodio: 18000, Recompensa promedio: -2.58, Epsilon: 0.1653\n"
          ]
        },
        {
          "output_type": "stream",
          "name": "stderr",
          "text": [
            " 19%|█▉        | 19289/100000 [00:38<00:47, 1708.63it/s]"
          ]
        },
        {
          "output_type": "stream",
          "name": "stdout",
          "text": [
            "Episodio: 19000, Recompensa promedio: -1.62, Epsilon: 0.1495\n"
          ]
        },
        {
          "output_type": "stream",
          "name": "stderr",
          "text": [
            " 20%|██        | 20221/100000 [00:39<00:46, 1726.93it/s]"
          ]
        },
        {
          "output_type": "stream",
          "name": "stdout",
          "text": [
            "Episodio: 20000, Recompensa promedio: -0.62, Epsilon: 0.1353\n"
          ]
        },
        {
          "output_type": "stream",
          "name": "stderr",
          "text": [
            " 21%|██▏       | 21250/100000 [00:39<00:51, 1543.49it/s]"
          ]
        },
        {
          "output_type": "stream",
          "name": "stdout",
          "text": [
            "Episodio: 21000, Recompensa promedio: 0.27, Epsilon: 0.1224\n"
          ]
        },
        {
          "output_type": "stream",
          "name": "stderr",
          "text": [
            " 22%|██▏       | 22244/100000 [00:40<00:40, 1914.21it/s]"
          ]
        },
        {
          "output_type": "stream",
          "name": "stdout",
          "text": [
            "Episodio: 22000, Recompensa promedio: 1.28, Epsilon: 0.1108\n"
          ]
        },
        {
          "output_type": "stream",
          "name": "stderr",
          "text": [
            " 23%|██▎       | 23245/100000 [00:41<00:46, 1659.53it/s]"
          ]
        },
        {
          "output_type": "stream",
          "name": "stdout",
          "text": [
            "Episodio: 23000, Recompensa promedio: 2.08, Epsilon: 0.1002\n"
          ]
        },
        {
          "output_type": "stream",
          "name": "stderr",
          "text": [
            " 24%|██▍       | 24457/100000 [00:41<00:38, 1984.41it/s]"
          ]
        },
        {
          "output_type": "stream",
          "name": "stdout",
          "text": [
            "Episodio: 24000, Recompensa promedio: 2.28, Epsilon: 0.0907\n"
          ]
        },
        {
          "output_type": "stream",
          "name": "stderr",
          "text": [
            " 25%|██▌       | 25363/100000 [00:42<00:34, 2181.06it/s]"
          ]
        },
        {
          "output_type": "stream",
          "name": "stdout",
          "text": [
            "Episodio: 25000, Recompensa promedio: 3.31, Epsilon: 0.0821\n"
          ]
        },
        {
          "output_type": "stream",
          "name": "stderr",
          "text": [
            " 26%|██▌       | 26146/100000 [00:42<00:44, 1646.58it/s]"
          ]
        },
        {
          "output_type": "stream",
          "name": "stdout",
          "text": [
            "Episodio: 26000, Recompensa promedio: 3.37, Epsilon: 0.0743\n"
          ]
        },
        {
          "output_type": "stream",
          "name": "stderr",
          "text": [
            " 27%|██▋       | 27302/100000 [00:43<00:46, 1559.55it/s]"
          ]
        },
        {
          "output_type": "stream",
          "name": "stdout",
          "text": [
            "Episodio: 27000, Recompensa promedio: 4.43, Epsilon: 0.0672\n"
          ]
        },
        {
          "output_type": "stream",
          "name": "stderr",
          "text": [
            " 28%|██▊       | 28180/100000 [00:43<00:45, 1595.80it/s]"
          ]
        },
        {
          "output_type": "stream",
          "name": "stdout",
          "text": [
            "Episodio: 28000, Recompensa promedio: 4.46, Epsilon: 0.0608\n"
          ]
        },
        {
          "output_type": "stream",
          "name": "stderr",
          "text": [
            " 29%|██▉       | 29323/100000 [00:44<00:46, 1524.68it/s]"
          ]
        },
        {
          "output_type": "stream",
          "name": "stdout",
          "text": [
            "Episodio: 29000, Recompensa promedio: 4.46, Epsilon: 0.0550\n"
          ]
        },
        {
          "output_type": "stream",
          "name": "stderr",
          "text": [
            " 30%|███       | 30383/100000 [00:45<00:32, 2130.13it/s]"
          ]
        },
        {
          "output_type": "stream",
          "name": "stdout",
          "text": [
            "Episodio: 30000, Recompensa promedio: 5.26, Epsilon: 0.0498\n"
          ]
        },
        {
          "output_type": "stream",
          "name": "stderr",
          "text": [
            " 31%|███▏      | 31391/100000 [00:45<00:38, 1762.76it/s]"
          ]
        },
        {
          "output_type": "stream",
          "name": "stdout",
          "text": [
            "Episodio: 31000, Recompensa promedio: 5.24, Epsilon: 0.0450\n"
          ]
        },
        {
          "output_type": "stream",
          "name": "stderr",
          "text": [
            " 32%|███▏      | 32381/100000 [00:46<00:34, 1932.39it/s]"
          ]
        },
        {
          "output_type": "stream",
          "name": "stdout",
          "text": [
            "Episodio: 32000, Recompensa promedio: 5.61, Epsilon: 0.0408\n"
          ]
        },
        {
          "output_type": "stream",
          "name": "stderr",
          "text": [
            " 33%|███▎      | 33368/100000 [00:46<00:36, 1804.12it/s]"
          ]
        },
        {
          "output_type": "stream",
          "name": "stdout",
          "text": [
            "Episodio: 33000, Recompensa promedio: 5.80, Epsilon: 0.0369\n"
          ]
        },
        {
          "output_type": "stream",
          "name": "stderr",
          "text": [
            " 34%|███▍      | 34444/100000 [00:47<00:32, 2033.73it/s]"
          ]
        },
        {
          "output_type": "stream",
          "name": "stdout",
          "text": [
            "Episodio: 34000, Recompensa promedio: 6.01, Epsilon: 0.0334\n"
          ]
        },
        {
          "output_type": "stream",
          "name": "stderr",
          "text": [
            " 35%|███▌      | 35318/100000 [00:47<00:33, 1943.27it/s]"
          ]
        },
        {
          "output_type": "stream",
          "name": "stdout",
          "text": [
            "Episodio: 35000, Recompensa promedio: 6.20, Epsilon: 0.0302\n"
          ]
        },
        {
          "output_type": "stream",
          "name": "stderr",
          "text": [
            " 36%|███▌      | 36156/100000 [00:48<00:32, 1962.02it/s]"
          ]
        },
        {
          "output_type": "stream",
          "name": "stdout",
          "text": [
            "Episodio: 36000, Recompensa promedio: 6.39, Epsilon: 0.0273\n"
          ]
        },
        {
          "output_type": "stream",
          "name": "stderr",
          "text": [
            " 37%|███▋      | 37243/100000 [00:48<00:33, 1888.91it/s]"
          ]
        },
        {
          "output_type": "stream",
          "name": "stdout",
          "text": [
            "Episodio: 37000, Recompensa promedio: 6.61, Epsilon: 0.0247\n"
          ]
        },
        {
          "output_type": "stream",
          "name": "stderr",
          "text": [
            " 38%|███▊      | 38424/100000 [00:49<00:29, 2096.63it/s]"
          ]
        },
        {
          "output_type": "stream",
          "name": "stdout",
          "text": [
            "Episodio: 38000, Recompensa promedio: 6.50, Epsilon: 0.0224\n"
          ]
        },
        {
          "output_type": "stream",
          "name": "stderr",
          "text": [
            " 39%|███▉      | 39295/100000 [00:50<00:33, 1835.12it/s]"
          ]
        },
        {
          "output_type": "stream",
          "name": "stdout",
          "text": [
            "Episodio: 39000, Recompensa promedio: 6.95, Epsilon: 0.0202\n"
          ]
        },
        {
          "output_type": "stream",
          "name": "stderr",
          "text": [
            " 40%|████      | 40488/100000 [00:50<00:26, 2249.51it/s]"
          ]
        },
        {
          "output_type": "stream",
          "name": "stdout",
          "text": [
            "Episodio: 40000, Recompensa promedio: 6.86, Epsilon: 0.0183\n"
          ]
        },
        {
          "output_type": "stream",
          "name": "stderr",
          "text": [
            " 41%|████▏     | 41412/100000 [00:50<00:27, 2107.96it/s]"
          ]
        },
        {
          "output_type": "stream",
          "name": "stdout",
          "text": [
            "Episodio: 41000, Recompensa promedio: 6.88, Epsilon: 0.0166\n"
          ]
        },
        {
          "output_type": "stream",
          "name": "stderr",
          "text": [
            " 42%|████▏     | 42313/100000 [00:51<00:28, 2005.93it/s]"
          ]
        },
        {
          "output_type": "stream",
          "name": "stdout",
          "text": [
            "Episodio: 42000, Recompensa promedio: 7.25, Epsilon: 0.0150\n"
          ]
        },
        {
          "output_type": "stream",
          "name": "stderr",
          "text": [
            " 43%|████▎     | 43397/100000 [00:52<00:28, 1973.84it/s]"
          ]
        },
        {
          "output_type": "stream",
          "name": "stdout",
          "text": [
            "Episodio: 43000, Recompensa promedio: 7.18, Epsilon: 0.0136\n"
          ]
        },
        {
          "output_type": "stream",
          "name": "stderr",
          "text": [
            " 44%|████▍     | 44296/100000 [00:52<00:25, 2191.49it/s]"
          ]
        },
        {
          "output_type": "stream",
          "name": "stdout",
          "text": [
            "Episodio: 44000, Recompensa promedio: 7.22, Epsilon: 0.0123\n"
          ]
        },
        {
          "output_type": "stream",
          "name": "stderr",
          "text": [
            " 45%|████▌     | 45343/100000 [00:53<00:28, 1929.36it/s]"
          ]
        },
        {
          "output_type": "stream",
          "name": "stdout",
          "text": [
            "Episodio: 45000, Recompensa promedio: 7.28, Epsilon: 0.0111\n"
          ]
        },
        {
          "output_type": "stream",
          "name": "stderr",
          "text": [
            " 46%|████▋     | 46368/100000 [00:53<00:31, 1714.86it/s]"
          ]
        },
        {
          "output_type": "stream",
          "name": "stdout",
          "text": [
            "Episodio: 46000, Recompensa promedio: 7.47, Epsilon: 0.0100\n"
          ]
        },
        {
          "output_type": "stream",
          "name": "stderr",
          "text": [
            " 47%|████▋     | 47414/100000 [00:54<00:25, 2054.05it/s]"
          ]
        },
        {
          "output_type": "stream",
          "name": "stdout",
          "text": [
            "Episodio: 47000, Recompensa promedio: 7.57, Epsilon: 0.0100\n"
          ]
        },
        {
          "output_type": "stream",
          "name": "stderr",
          "text": [
            " 48%|████▊     | 48305/100000 [00:54<00:24, 2111.91it/s]"
          ]
        },
        {
          "output_type": "stream",
          "name": "stdout",
          "text": [
            "Episodio: 48000, Recompensa promedio: 7.40, Epsilon: 0.0100\n"
          ]
        },
        {
          "output_type": "stream",
          "name": "stderr",
          "text": [
            " 49%|████▉     | 49358/100000 [00:55<00:26, 1879.40it/s]"
          ]
        },
        {
          "output_type": "stream",
          "name": "stdout",
          "text": [
            "Episodio: 49000, Recompensa promedio: 7.62, Epsilon: 0.0100\n"
          ]
        },
        {
          "output_type": "stream",
          "name": "stderr",
          "text": [
            " 50%|█████     | 50293/100000 [00:55<00:28, 1752.01it/s]"
          ]
        },
        {
          "output_type": "stream",
          "name": "stdout",
          "text": [
            "Episodio: 50000, Recompensa promedio: 7.58, Epsilon: 0.0100\n"
          ]
        },
        {
          "output_type": "stream",
          "name": "stderr",
          "text": [
            " 51%|█████     | 51226/100000 [00:56<01:00, 804.55it/s]"
          ]
        },
        {
          "output_type": "stream",
          "name": "stdout",
          "text": [
            "Episodio: 51000, Recompensa promedio: 7.22, Epsilon: 0.0100\n"
          ]
        },
        {
          "output_type": "stream",
          "name": "stderr",
          "text": [
            " 52%|█████▏    | 52426/100000 [00:58<00:37, 1274.71it/s]"
          ]
        },
        {
          "output_type": "stream",
          "name": "stdout",
          "text": [
            "Episodio: 52000, Recompensa promedio: 7.62, Epsilon: 0.0100\n"
          ]
        },
        {
          "output_type": "stream",
          "name": "stderr",
          "text": [
            " 53%|█████▎    | 53251/100000 [00:58<00:30, 1534.92it/s]"
          ]
        },
        {
          "output_type": "stream",
          "name": "stdout",
          "text": [
            "Episodio: 53000, Recompensa promedio: 7.47, Epsilon: 0.0100\n"
          ]
        },
        {
          "output_type": "stream",
          "name": "stderr",
          "text": [
            " 54%|█████▍    | 54413/100000 [00:58<00:20, 2270.44it/s]"
          ]
        },
        {
          "output_type": "stream",
          "name": "stdout",
          "text": [
            "Episodio: 54000, Recompensa promedio: 7.26, Epsilon: 0.0100\n"
          ]
        },
        {
          "output_type": "stream",
          "name": "stderr",
          "text": [
            " 55%|█████▌    | 55433/100000 [00:59<00:17, 2483.39it/s]"
          ]
        },
        {
          "output_type": "stream",
          "name": "stdout",
          "text": [
            "Episodio: 55000, Recompensa promedio: 7.79, Epsilon: 0.0100\n"
          ]
        },
        {
          "output_type": "stream",
          "name": "stderr",
          "text": [
            " 56%|█████▌    | 56170/100000 [00:59<00:21, 2017.76it/s]"
          ]
        },
        {
          "output_type": "stream",
          "name": "stdout",
          "text": [
            "Episodio: 56000, Recompensa promedio: 7.38, Epsilon: 0.0100\n"
          ]
        },
        {
          "output_type": "stream",
          "name": "stderr",
          "text": [
            " 57%|█████▋    | 57262/100000 [01:00<00:20, 2092.36it/s]"
          ]
        },
        {
          "output_type": "stream",
          "name": "stdout",
          "text": [
            "Episodio: 57000, Recompensa promedio: 7.34, Epsilon: 0.0100\n"
          ]
        },
        {
          "output_type": "stream",
          "name": "stderr",
          "text": [
            " 58%|█████▊    | 58400/100000 [01:00<00:21, 1893.55it/s]"
          ]
        },
        {
          "output_type": "stream",
          "name": "stdout",
          "text": [
            "Episodio: 58000, Recompensa promedio: 7.34, Epsilon: 0.0100\n"
          ]
        },
        {
          "output_type": "stream",
          "name": "stderr",
          "text": [
            " 60%|█████▉    | 59527/100000 [01:01<00:22, 1814.14it/s]"
          ]
        },
        {
          "output_type": "stream",
          "name": "stdout",
          "text": [
            "Episodio: 59000, Recompensa promedio: 7.44, Epsilon: 0.0100\n"
          ]
        },
        {
          "output_type": "stream",
          "name": "stderr",
          "text": [
            " 60%|██████    | 60380/100000 [01:01<00:20, 1980.84it/s]"
          ]
        },
        {
          "output_type": "stream",
          "name": "stdout",
          "text": [
            "Episodio: 60000, Recompensa promedio: 7.43, Epsilon: 0.0100\n"
          ]
        },
        {
          "output_type": "stream",
          "name": "stderr",
          "text": [
            " 61%|██████▏   | 61396/100000 [01:02<00:17, 2240.68it/s]"
          ]
        },
        {
          "output_type": "stream",
          "name": "stdout",
          "text": [
            "Episodio: 61000, Recompensa promedio: 7.64, Epsilon: 0.0100\n"
          ]
        },
        {
          "output_type": "stream",
          "name": "stderr",
          "text": [
            " 62%|██████▏   | 62292/100000 [01:02<00:18, 2050.49it/s]"
          ]
        },
        {
          "output_type": "stream",
          "name": "stdout",
          "text": [
            "Episodio: 62000, Recompensa promedio: 7.45, Epsilon: 0.0100\n"
          ]
        },
        {
          "output_type": "stream",
          "name": "stderr",
          "text": [
            " 64%|██████▎   | 63501/100000 [01:03<00:15, 2349.62it/s]"
          ]
        },
        {
          "output_type": "stream",
          "name": "stdout",
          "text": [
            "Episodio: 63000, Recompensa promedio: 7.43, Epsilon: 0.0100\n"
          ]
        },
        {
          "output_type": "stream",
          "name": "stderr",
          "text": [
            " 65%|██████▍   | 64579/100000 [01:03<00:13, 2619.51it/s]"
          ]
        },
        {
          "output_type": "stream",
          "name": "stdout",
          "text": [
            "Episodio: 64000, Recompensa promedio: 7.38, Epsilon: 0.0100\n"
          ]
        },
        {
          "output_type": "stream",
          "name": "stderr",
          "text": [
            " 65%|██████▌   | 65364/100000 [01:04<00:14, 2342.43it/s]"
          ]
        },
        {
          "output_type": "stream",
          "name": "stdout",
          "text": [
            "Episodio: 65000, Recompensa promedio: 7.38, Epsilon: 0.0100\n"
          ]
        },
        {
          "output_type": "stream",
          "name": "stderr",
          "text": [
            " 66%|██████▋   | 66338/100000 [01:04<00:17, 1905.16it/s]"
          ]
        },
        {
          "output_type": "stream",
          "name": "stdout",
          "text": [
            "Episodio: 66000, Recompensa promedio: 7.39, Epsilon: 0.0100\n"
          ]
        },
        {
          "output_type": "stream",
          "name": "stderr",
          "text": [
            " 67%|██████▋   | 67350/100000 [01:05<00:14, 2307.49it/s]"
          ]
        },
        {
          "output_type": "stream",
          "name": "stdout",
          "text": [
            "Episodio: 67000, Recompensa promedio: 7.36, Epsilon: 0.0100\n"
          ]
        },
        {
          "output_type": "stream",
          "name": "stderr",
          "text": [
            " 68%|██████▊   | 68244/100000 [01:05<00:16, 1976.10it/s]"
          ]
        },
        {
          "output_type": "stream",
          "name": "stdout",
          "text": [
            "Episodio: 68000, Recompensa promedio: 7.30, Epsilon: 0.0100\n"
          ]
        },
        {
          "output_type": "stream",
          "name": "stderr",
          "text": [
            " 69%|██████▉   | 69404/100000 [01:06<00:18, 1659.51it/s]"
          ]
        },
        {
          "output_type": "stream",
          "name": "stdout",
          "text": [
            "Episodio: 69000, Recompensa promedio: 7.35, Epsilon: 0.0100\n"
          ]
        },
        {
          "output_type": "stream",
          "name": "stderr",
          "text": [
            " 70%|███████   | 70230/100000 [01:06<00:23, 1268.05it/s]"
          ]
        },
        {
          "output_type": "stream",
          "name": "stdout",
          "text": [
            "Episodio: 70000, Recompensa promedio: 7.66, Epsilon: 0.0100\n"
          ]
        },
        {
          "output_type": "stream",
          "name": "stderr",
          "text": [
            " 71%|███████   | 71248/100000 [01:07<00:15, 1803.56it/s]"
          ]
        },
        {
          "output_type": "stream",
          "name": "stdout",
          "text": [
            "Episodio: 71000, Recompensa promedio: 7.40, Epsilon: 0.0100\n"
          ]
        },
        {
          "output_type": "stream",
          "name": "stderr",
          "text": [
            " 72%|███████▏  | 72187/100000 [01:08<00:15, 1761.77it/s]"
          ]
        },
        {
          "output_type": "stream",
          "name": "stdout",
          "text": [
            "Episodio: 72000, Recompensa promedio: 7.26, Epsilon: 0.0100\n"
          ]
        },
        {
          "output_type": "stream",
          "name": "stderr",
          "text": [
            " 73%|███████▎  | 73282/100000 [01:08<00:15, 1764.26it/s]"
          ]
        },
        {
          "output_type": "stream",
          "name": "stdout",
          "text": [
            "Episodio: 73000, Recompensa promedio: 7.40, Epsilon: 0.0100\n"
          ]
        },
        {
          "output_type": "stream",
          "name": "stderr",
          "text": [
            " 74%|███████▍  | 74246/100000 [01:09<00:13, 1922.83it/s]"
          ]
        },
        {
          "output_type": "stream",
          "name": "stdout",
          "text": [
            "Episodio: 74000, Recompensa promedio: 7.34, Epsilon: 0.0100\n"
          ]
        },
        {
          "output_type": "stream",
          "name": "stderr",
          "text": [
            " 75%|███████▌  | 75199/100000 [01:09<00:13, 1771.83it/s]"
          ]
        },
        {
          "output_type": "stream",
          "name": "stdout",
          "text": [
            "Episodio: 75000, Recompensa promedio: 7.45, Epsilon: 0.0100\n"
          ]
        },
        {
          "output_type": "stream",
          "name": "stderr",
          "text": [
            " 76%|███████▋  | 76276/100000 [01:10<00:13, 1728.34it/s]"
          ]
        },
        {
          "output_type": "stream",
          "name": "stdout",
          "text": [
            "Episodio: 76000, Recompensa promedio: 7.55, Epsilon: 0.0100\n"
          ]
        },
        {
          "output_type": "stream",
          "name": "stderr",
          "text": [
            " 77%|███████▋  | 77260/100000 [01:10<00:10, 2143.61it/s]"
          ]
        },
        {
          "output_type": "stream",
          "name": "stdout",
          "text": [
            "Episodio: 77000, Recompensa promedio: 7.30, Epsilon: 0.0100\n"
          ]
        },
        {
          "output_type": "stream",
          "name": "stderr",
          "text": [
            " 78%|███████▊  | 78467/100000 [01:11<00:09, 2274.75it/s]"
          ]
        },
        {
          "output_type": "stream",
          "name": "stdout",
          "text": [
            "Episodio: 78000, Recompensa promedio: 7.23, Epsilon: 0.0100\n"
          ]
        },
        {
          "output_type": "stream",
          "name": "stderr",
          "text": [
            " 79%|███████▉  | 79360/100000 [01:11<00:10, 1961.40it/s]"
          ]
        },
        {
          "output_type": "stream",
          "name": "stdout",
          "text": [
            "Episodio: 79000, Recompensa promedio: 7.32, Epsilon: 0.0100\n"
          ]
        },
        {
          "output_type": "stream",
          "name": "stderr",
          "text": [
            " 81%|████████  | 80506/100000 [01:12<00:09, 2159.10it/s]"
          ]
        },
        {
          "output_type": "stream",
          "name": "stdout",
          "text": [
            "Episodio: 80000, Recompensa promedio: 7.57, Epsilon: 0.0100\n"
          ]
        },
        {
          "output_type": "stream",
          "name": "stderr",
          "text": [
            " 81%|████████▏ | 81391/100000 [01:12<00:09, 1970.38it/s]"
          ]
        },
        {
          "output_type": "stream",
          "name": "stdout",
          "text": [
            "Episodio: 81000, Recompensa promedio: 7.30, Epsilon: 0.0100\n"
          ]
        },
        {
          "output_type": "stream",
          "name": "stderr",
          "text": [
            " 82%|████████▏ | 82274/100000 [01:13<00:08, 2161.33it/s]"
          ]
        },
        {
          "output_type": "stream",
          "name": "stdout",
          "text": [
            "Episodio: 82000, Recompensa promedio: 7.52, Epsilon: 0.0100\n"
          ]
        },
        {
          "output_type": "stream",
          "name": "stderr",
          "text": [
            " 83%|████████▎ | 83375/100000 [01:13<00:08, 1974.79it/s]"
          ]
        },
        {
          "output_type": "stream",
          "name": "stdout",
          "text": [
            "Episodio: 83000, Recompensa promedio: 7.46, Epsilon: 0.0100\n"
          ]
        },
        {
          "output_type": "stream",
          "name": "stderr",
          "text": [
            " 84%|████████▍ | 84443/100000 [01:14<00:06, 2484.57it/s]"
          ]
        },
        {
          "output_type": "stream",
          "name": "stdout",
          "text": [
            "Episodio: 84000, Recompensa promedio: 7.41, Epsilon: 0.0100\n"
          ]
        },
        {
          "output_type": "stream",
          "name": "stderr",
          "text": [
            " 85%|████████▌ | 85173/100000 [01:14<00:06, 2188.06it/s]"
          ]
        },
        {
          "output_type": "stream",
          "name": "stdout",
          "text": [
            "Episodio: 85000, Recompensa promedio: 7.38, Epsilon: 0.0100\n"
          ]
        },
        {
          "output_type": "stream",
          "name": "stderr",
          "text": [
            " 86%|████████▌ | 86172/100000 [01:15<00:10, 1274.65it/s]"
          ]
        },
        {
          "output_type": "stream",
          "name": "stdout",
          "text": [
            "Episodio: 86000, Recompensa promedio: 7.55, Epsilon: 0.0100\n"
          ]
        },
        {
          "output_type": "stream",
          "name": "stderr",
          "text": [
            " 87%|████████▋ | 87022/100000 [01:16<00:07, 1683.96it/s]"
          ]
        },
        {
          "output_type": "stream",
          "name": "stdout",
          "text": [
            "Episodio: 87000, Recompensa promedio: 7.46, Epsilon: 0.0100\n"
          ]
        },
        {
          "output_type": "stream",
          "name": "stderr",
          "text": [
            " 88%|████████▊ | 88246/100000 [01:17<00:08, 1415.11it/s]"
          ]
        },
        {
          "output_type": "stream",
          "name": "stdout",
          "text": [
            "Episodio: 88000, Recompensa promedio: 7.62, Epsilon: 0.0100\n"
          ]
        },
        {
          "output_type": "stream",
          "name": "stderr",
          "text": [
            " 89%|████████▉ | 89117/100000 [01:18<00:16, 644.20it/s]"
          ]
        },
        {
          "output_type": "stream",
          "name": "stdout",
          "text": [
            "Episodio: 89000, Recompensa promedio: 7.42, Epsilon: 0.0100\n"
          ]
        },
        {
          "output_type": "stream",
          "name": "stderr",
          "text": [
            " 90%|█████████ | 90227/100000 [01:19<00:06, 1408.14it/s]"
          ]
        },
        {
          "output_type": "stream",
          "name": "stdout",
          "text": [
            "Episodio: 90000, Recompensa promedio: 7.81, Epsilon: 0.0100\n"
          ]
        },
        {
          "output_type": "stream",
          "name": "stderr",
          "text": [
            " 91%|█████████ | 91147/100000 [01:20<00:07, 1112.30it/s]"
          ]
        },
        {
          "output_type": "stream",
          "name": "stdout",
          "text": [
            "Episodio: 91000, Recompensa promedio: 7.38, Epsilon: 0.0100\n"
          ]
        },
        {
          "output_type": "stream",
          "name": "stderr",
          "text": [
            " 92%|█████████▏| 92097/100000 [01:21<00:08, 954.69it/s] "
          ]
        },
        {
          "output_type": "stream",
          "name": "stdout",
          "text": [
            "Episodio: 92000, Recompensa promedio: 7.62, Epsilon: 0.0100\n"
          ]
        },
        {
          "output_type": "stream",
          "name": "stderr",
          "text": [
            " 93%|█████████▎| 93235/100000 [01:22<00:05, 1240.84it/s]"
          ]
        },
        {
          "output_type": "stream",
          "name": "stdout",
          "text": [
            "Episodio: 93000, Recompensa promedio: 7.52, Epsilon: 0.0100\n"
          ]
        },
        {
          "output_type": "stream",
          "name": "stderr",
          "text": [
            " 94%|█████████▍| 94327/100000 [01:23<00:02, 1935.08it/s]"
          ]
        },
        {
          "output_type": "stream",
          "name": "stdout",
          "text": [
            "Episodio: 94000, Recompensa promedio: 7.48, Epsilon: 0.0100\n"
          ]
        },
        {
          "output_type": "stream",
          "name": "stderr",
          "text": [
            " 95%|█████████▌| 95113/100000 [01:23<00:03, 1375.04it/s]"
          ]
        },
        {
          "output_type": "stream",
          "name": "stdout",
          "text": [
            "Episodio: 95000, Recompensa promedio: 7.52, Epsilon: 0.0100\n"
          ]
        },
        {
          "output_type": "stream",
          "name": "stderr",
          "text": [
            " 96%|█████████▌| 96163/100000 [01:24<00:03, 1238.04it/s]"
          ]
        },
        {
          "output_type": "stream",
          "name": "stdout",
          "text": [
            "Episodio: 96000, Recompensa promedio: 7.44, Epsilon: 0.0100\n"
          ]
        },
        {
          "output_type": "stream",
          "name": "stderr",
          "text": [
            " 97%|█████████▋| 97477/100000 [01:25<00:01, 2042.59it/s]"
          ]
        },
        {
          "output_type": "stream",
          "name": "stdout",
          "text": [
            "Episodio: 97000, Recompensa promedio: 7.46, Epsilon: 0.0100\n"
          ]
        },
        {
          "output_type": "stream",
          "name": "stderr",
          "text": [
            " 99%|█████████▊| 98576/100000 [01:25<00:00, 1798.63it/s]"
          ]
        },
        {
          "output_type": "stream",
          "name": "stdout",
          "text": [
            "Episodio: 98000, Recompensa promedio: 7.32, Epsilon: 0.0100\n"
          ]
        },
        {
          "output_type": "stream",
          "name": "stderr",
          "text": [
            " 99%|█████████▉| 99337/100000 [01:26<00:00, 1952.09it/s]"
          ]
        },
        {
          "output_type": "stream",
          "name": "stdout",
          "text": [
            "Episodio: 99000, Recompensa promedio: 7.31, Epsilon: 0.0100\n"
          ]
        },
        {
          "output_type": "stream",
          "name": "stderr",
          "text": [
            "100%|██████████| 100000/100000 [01:26<00:00, 1154.97it/s]\n"
          ]
        },
        {
          "output_type": "display_data",
          "data": {
            "text/plain": [
              "<Figure size 1200x600 with 1 Axes>"
            ],
            "image/png": "[encoded data removed]"
          },
          "metadata": {}
        },
        {
          "output_type": "stream",
          "name": "stdout",
          "text": [
            "Tasa de éxito en evaluación: 100.00%\n"
          ]
        }
      ]
    }
  ]
}